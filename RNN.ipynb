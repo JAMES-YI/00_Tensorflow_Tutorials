{
  "nbformat": 4,
  "nbformat_minor": 0,
  "metadata": {
    "colab": {
      "name": "RNN.ipynb",
      "provenance": [],
      "collapsed_sections": [],
      "authorship_tag": "ABX9TyMiq7EZbEBCDZc/2ncD5zxf",
      "include_colab_link": true
    },
    "kernelspec": {
      "name": "python3",
      "display_name": "Python 3"
    }
  },
  "cells": [
    {
      "cell_type": "markdown",
      "metadata": {
        "id": "view-in-github",
        "colab_type": "text"
      },
      "source": [
        "<a href=\"https://colab.research.google.com/github/JAMES-YI/00_Tensorflow_Tutorials/blob/master/RNN.ipynb\" target=\"_parent\"><img src=\"https://colab.research.google.com/assets/colab-badge.svg\" alt=\"Open In Colab\"/></a>"
      ]
    },
    {
      "cell_type": "markdown",
      "metadata": {
        "id": "G0T5X-2UNtR9",
        "colab_type": "text"
      },
      "source": [
        "# RNN implementation with basic Tensorflow operations\n",
        "\n",
        "Codes from: https://pythonprogramming.net/rnn-tensorflow-python-machine-learning-tutorial/\n",
        "\n",
        "Modified by JYI, 02/26/2020"
      ]
    },
    {
      "cell_type": "code",
      "metadata": {
        "id": "anYmmkP1NbVc",
        "colab_type": "code",
        "colab": {
          "base_uri": "https://localhost:8080/",
          "height": 109
        },
        "outputId": "4b6e926a-7af2-4448-d571-4db3f280e4fc"
      },
      "source": [
        "'''\n",
        "- hm_epochs\n",
        "- chunk_size\n",
        "- n_chunks\n",
        "- rnn_size, number of nodes in LSTM \n",
        "- input first goes through a LSTM (128 units) -> FC layer (10 units) -> prediction of logits -> cost calculation\n",
        "- output shape of RNN, (batch_size, num_classes)\n",
        "'''\n",
        "\n",
        "import tensorflow as tf\n",
        "from tensorflow.examples.tutorials.mnist import input_data\n",
        "from tensorflow.python.ops import rnn, rnn_cell\n",
        "mnist = input_data.read_data_sets(\"/tmp/data/\", one_hot = True)\n",
        "\n",
        "hm_epochs = 3 \n",
        "n_classes = 10\n",
        "batch_size = 128\n",
        "chunk_size = 28\n",
        "n_chunks = 28\n",
        "rnn_size = 128\n",
        "\n",
        "\n",
        "x = tf.placeholder('float', [None, n_chunks,chunk_size])\n",
        "y = tf.placeholder('float')\n",
        "layer = {'weights':tf.Variable(tf.random_normal([rnn_size,n_classes])),\n",
        "          'biases':tf.Variable(tf.random_normal([n_classes]))}\n",
        "\n",
        "x = tf.transpose(x, [1,0,2])\n",
        "x = tf.reshape(x, [-1, chunk_size])\n",
        "x = tf.split(x, n_chunks, 0)\n",
        "print(len(x)) # decompose x as 28 tensors\n",
        "\n",
        "lstm_cell = rnn_cell.BasicLSTMCell(rnn_size,state_is_tuple=True,reuse=True)\n",
        "outputs, states = rnn.static_rnn(lstm_cell, x, dtype=tf.float32)\n",
        "\n",
        "output = tf.matmul(outputs[-1],layer['weights']) + layer['biases']\n",
        "\n",
        "cost = tf.reduce_mean( tf.nn.softmax_cross_entropy_with_logits(labels=y,logits=prediction) )\n",
        "optimizer = tf.train.AdamOptimizer().minimize(cost)\n",
        "\n",
        "\n",
        "with tf.Session() as sess:\n",
        "    sess.run(tf.initialize_all_variables())\n",
        "\n",
        "    for epoch in range(hm_epochs):\n",
        "        epoch_loss = 0\n",
        "        for _ in range(int(mnist.train.num_examples/batch_size)):\n",
        "            epoch_x, epoch_y = mnist.train.next_batch(batch_size)\n",
        "            epoch_x = epoch_x.reshape((batch_size,n_chunks,chunk_size))\n",
        "\n",
        "            _, c = sess.run([optimizer, cost], feed_dict={x: epoch_x, y: epoch_y})\n",
        "            epoch_loss += c\n",
        "\n",
        "        print('Epoch', epoch, 'completed out of',hm_epochs,'loss:',epoch_loss)\n",
        "\n",
        "    correct = tf.equal(tf.argmax(prediction, 1), tf.argmax(y, 1))\n",
        "\n",
        "    accuracy = tf.reduce_mean(tf.cast(correct, 'float'))\n",
        "    print('Accuracy:',accuracy.eval({x:mnist.test.images.reshape((-1, n_chunks, chunk_size)), y:mnist.test.labels}))\n",
        "\n"
      ],
      "execution_count": 6,
      "outputs": [
        {
          "output_type": "stream",
          "text": [
            "Extracting /tmp/data/train-images-idx3-ubyte.gz\n",
            "Extracting /tmp/data/train-labels-idx1-ubyte.gz\n",
            "Extracting /tmp/data/t10k-images-idx3-ubyte.gz\n",
            "Extracting /tmp/data/t10k-labels-idx1-ubyte.gz\n",
            "28\n"
          ],
          "name": "stdout"
        }
      ]
    },
    {
      "cell_type": "code",
      "metadata": {
        "id": "qbEdx6r_NhY8",
        "colab_type": "code",
        "colab": {
          "base_uri": "https://localhost:8080/",
          "height": 533
        },
        "outputId": "eb28ab6e-0991-4258-9a1e-327dee184d10"
      },
      "source": [
        "# def recurrent_neural_network(x):\n",
        "#   '''\n",
        "#   - x\n",
        "#   '''\n",
        "#   layer = {'weights':tf.Variable(tf.random_normal([rnn_size,n_classes])),\n",
        "#             'biases':tf.Variable(tf.random_normal([n_classes]))}\n",
        "\n",
        "#   x = tf.transpose(x, [1,0,2])\n",
        "#   x = tf.reshape(x, [-1, chunk_size])\n",
        "#   x = tf.split(x, n_chunks, 0)\n",
        "#   print(x)\n",
        "\n",
        "#   lstm_cell = rnn_cell.BasicLSTMCell(rnn_size,state_is_tuple=True,reuse=True)\n",
        "#   outputs, states = rnn.static_rnn(lstm_cell, x, dtype=tf.float32)\n",
        "\n",
        "#   output = tf.matmul(outputs[-1],layer['weights']) + layer['biases']\n",
        "\n",
        "#   return output\n",
        "\n",
        "# def train_neural_network(x):\n",
        "#     prediction = recurrent_neural_network(x)\n",
        "#     cost = tf.reduce_mean( tf.nn.softmax_cross_entropy_with_logits(labels=y,logits=prediction) )\n",
        "#     optimizer = tf.train.AdamOptimizer().minimize(cost)\n",
        "    \n",
        "    \n",
        "#     with tf.Session() as sess:\n",
        "#         sess.run(tf.initialize_all_variables())\n",
        "\n",
        "#         for epoch in range(hm_epochs):\n",
        "#             epoch_loss = 0\n",
        "#             for _ in range(int(mnist.train.num_examples/batch_size)):\n",
        "#                 epoch_x, epoch_y = mnist.train.next_batch(batch_size)\n",
        "#                 epoch_x = epoch_x.reshape((batch_size,n_chunks,chunk_size))\n",
        "\n",
        "#                 _, c = sess.run([optimizer, cost], feed_dict={x: epoch_x, y: epoch_y})\n",
        "#                 epoch_loss += c\n",
        "\n",
        "#             print('Epoch', epoch, 'completed out of',hm_epochs,'loss:',epoch_loss)\n",
        "\n",
        "#         correct = tf.equal(tf.argmax(prediction, 1), tf.argmax(y, 1))\n",
        "\n",
        "#         accuracy = tf.reduce_mean(tf.cast(correct, 'float'))\n",
        "#         print('Accuracy:',accuracy.eval({x:mnist.test.images.reshape((-1, n_chunks, chunk_size)), y:mnist.test.labels}))\n",
        "\n",
        "# train_neural_network(x)"
      ],
      "execution_count": 3,
      "outputs": [
        {
          "output_type": "stream",
          "text": [
            "WARNING:tensorflow:From <ipython-input-2-c266dc03dfee>:12: BasicLSTMCell.__init__ (from tensorflow.python.ops.rnn_cell_impl) is deprecated and will be removed in a future version.\n",
            "Instructions for updating:\n",
            "This class is equivalent as tf.keras.layers.LSTMCell, and will be replaced by that in Tensorflow 2.0.\n",
            "WARNING:tensorflow:From <ipython-input-2-c266dc03dfee>:13: static_rnn (from tensorflow.python.ops.rnn) is deprecated and will be removed in a future version.\n",
            "Instructions for updating:\n",
            "Please use `keras.layers.RNN(cell, unroll=True)`, which is equivalent to this API\n",
            "WARNING:tensorflow:From /usr/local/lib/python3.6/dist-packages/tensorflow_core/python/ops/rnn_cell_impl.py:735: Layer.add_variable (from tensorflow.python.keras.engine.base_layer) is deprecated and will be removed in a future version.\n",
            "Instructions for updating:\n",
            "Please use `layer.add_weight` method instead.\n",
            "WARNING:tensorflow:From /usr/local/lib/python3.6/dist-packages/tensorflow_core/python/ops/rnn_cell_impl.py:739: calling Zeros.__init__ (from tensorflow.python.ops.init_ops) with dtype is deprecated and will be removed in a future version.\n",
            "Instructions for updating:\n",
            "Call initializer instance with the dtype argument instead of passing it to the constructor\n",
            "WARNING:tensorflow:From <ipython-input-3-925ac86ac603>:3: softmax_cross_entropy_with_logits (from tensorflow.python.ops.nn_ops) is deprecated and will be removed in a future version.\n",
            "Instructions for updating:\n",
            "\n",
            "Future major versions of TensorFlow will allow gradients to flow\n",
            "into the labels input on backprop by default.\n",
            "\n",
            "See `tf.nn.softmax_cross_entropy_with_logits_v2`.\n",
            "\n",
            "WARNING:tensorflow:From /usr/local/lib/python3.6/dist-packages/tensorflow_core/python/util/tf_should_use.py:198: initialize_all_variables (from tensorflow.python.ops.variables) is deprecated and will be removed after 2017-03-02.\n",
            "Instructions for updating:\n",
            "Use `tf.global_variables_initializer` instead.\n",
            "Epoch 0 completed out of 3 loss: 198.94611271470785\n",
            "Epoch 1 completed out of 3 loss: 56.95425859466195\n",
            "Epoch 2 completed out of 3 loss: 37.6426000604406\n",
            "Accuracy: 0.9761\n"
          ],
          "name": "stdout"
        }
      ]
    }
  ]
}